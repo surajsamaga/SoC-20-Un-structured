{
  "nbformat": 4,
  "nbformat_minor": 0,
  "metadata": {
    "colab": {
      "name": "yolo_initialize.ipynb",
      "provenance": [],
      "collapsed_sections": []
    },
    "kernelspec": {
      "name": "python3",
      "display_name": "Python 3"
    }
  },
  "cells": [
    {
      "cell_type": "code",
      "metadata": {
        "id": "kJL1CWZaGJHE",
        "colab_type": "code",
        "colab": {}
      },
      "source": [
        "import os\n",
        "import xml.etree.ElementTree as ET\n",
        "import copy"
      ],
      "execution_count": 0,
      "outputs": []
    },
    {
      "cell_type": "code",
      "metadata": {
        "id": "mGShCPWHkUwY",
        "colab_type": "code",
        "outputId": "620a95c1-4f69-4ec5-b1e7-e8a236ec2cb8",
        "colab": {
          "base_uri": "https://localhost:8080/",
          "height": 121
        }
      },
      "source": [
        "# Mount google drive\n",
        "from google.colab import drive\n",
        "drive.mount('/content/drive')"
      ],
      "execution_count": 2,
      "outputs": [
        {
          "output_type": "stream",
          "text": [
            "Go to this URL in a browser: https://accounts.google.com/o/oauth2/auth?client_id=947318989803-6bn6qk8qdgf4n4g3pfee6491hc0brc4i.apps.googleusercontent.com&redirect_uri=urn%3aietf%3awg%3aoauth%3a2.0%3aoob&response_type=code&scope=email%20https%3a%2f%2fwww.googleapis.com%2fauth%2fdocs.test%20https%3a%2f%2fwww.googleapis.com%2fauth%2fdrive%20https%3a%2f%2fwww.googleapis.com%2fauth%2fdrive.photos.readonly%20https%3a%2f%2fwww.googleapis.com%2fauth%2fpeopleapi.readonly\n",
            "\n",
            "Enter your authorization code:\n",
            "··········\n",
            "Mounted at /content/drive\n"
          ],
          "name": "stdout"
        }
      ]
    },
    {
      "cell_type": "code",
      "metadata": {
        "id": "FEutDAWT7iO0",
        "colab_type": "code",
        "colab": {}
      },
      "source": [
        "path = '/content/drive/My Drive/SVT'\n",
        "# path where images directory is stored "
      ],
      "execution_count": 0,
      "outputs": []
    },
    {
      "cell_type": "code",
      "metadata": {
        "id": "mVEV86uzGcp3",
        "colab_type": "code",
        "colab": {}
      },
      "source": [
        "def parse_annotation(data):\n",
        "  '''\n",
        "  parse train and test xml files to generate annotations\n",
        "  inputs -\n",
        "    data - string denoting filename\n",
        "  outputs -\n",
        "    all_images - list of dicts containing annotations for each image\n",
        "  '''\n",
        "  # path = '/content/drive/My Drive/SVT'  # path where images directory is stored\n",
        "  fpath = os.path.join(path, data)  # global path being used\n",
        "  tree = ET.parse(fpath)  \n",
        "  root = tree.getroot() # tagset\n",
        "  all_images = []\n",
        "\n",
        "  for child in root.findall('image'): # image\n",
        "    info = {}\n",
        "    for child_1 in child.findall('imageName'):\n",
        "      info['filename'] = os.path.join(path, child_1.text)\n",
        "    for child_2 in child.findall('lex'):\n",
        "      info['lex'] = child_2.text\n",
        "    for child_3 in child.findall('Resolution'):\n",
        "      temp = child_3.attrib\n",
        "      info['height'] = int(temp['y'])\n",
        "      info['width'] = int(temp['x'])\n",
        "\n",
        "    info['object'] = []\n",
        "    for child_4 in child.findall('taggedRectangles'):\n",
        "      \n",
        "      for gchild_1 in child_4.findall('taggedRectangle'):\n",
        "        bbox = {}\n",
        "        temp2 = gchild_1.attrib\n",
        "        xmin = int(temp2['x'])\n",
        "        ymin = int(temp2['y'])\n",
        "        w = int(temp2['width'])\n",
        "        h = int(temp2['height'])\n",
        "\n",
        "        # stored in xmin, ymin, xmax, ymax format\n",
        "        bbox['xmin'] = xmin\n",
        "        bbox['ymin'] = ymin\n",
        "        bbox['xmax'] = xmin + w\n",
        "        bbox['ymax'] = ymin + h\n",
        "        for gg_child_1 in gchild_1.findall('tag'):\n",
        "          bbox['label'] = gg_child_1.text\n",
        "          \n",
        "        info['object'].append(bbox)\n",
        "    all_images.append(info)\n",
        "  return all_images"
      ],
      "execution_count": 0,
      "outputs": []
    },
    {
      "cell_type": "code",
      "metadata": {
        "id": "NXwzUrSVcLtI",
        "colab_type": "code",
        "colab": {}
      },
      "source": [
        "def slice_dataset(list_gainer, list_loser, train = 0.6, val = 0.2, test = 0.2):\n",
        "  '''\n",
        "  slice dataset to create required train:val:testsplit\n",
        "  inputs -\n",
        "    list_gainer - train list created above (100 images) \n",
        "    list_loser - test list created above (249 images), from which we transfer images to train list\n",
        "    train, val, test - ratios of their distribution in total\n",
        "  outputs - \n",
        "    list_gainer, list_created, new_list_loser - lists created in the given ratio\n",
        "  '''\n",
        "  assert(train + val + test == 1)\n",
        "  total = len(list_gainer) + len(list_loser)\n",
        "  train_contrib = int(total * train - len(list_gainer)) # portion from list_loser to contrib for train; 0 tp train_contrib\n",
        "  # assert(train_contrib > 0)\n",
        "  val_contrib = int(total * val + train_contrib) # portion from list_loser to contrib for val; train_contrib to val_contrib\n",
        "\n",
        "  new_loser = copy.deepcopy(list_loser)\n",
        "  list_created = []\n",
        "  for _ in range(train_contrib):\n",
        "    ele = new_loser.pop(0)\n",
        "    list_gainer.append(ele)\n",
        "\n",
        "  for _ in range(train_contrib, val_contrib):\n",
        "    ele1 = new_loser.pop(0)\n",
        "    list_created.append(ele1)  # was ele earlier, lead to faulty valid_dataset\n",
        "  \n",
        "  print(total, '=', len(list_gainer), '+', len(list_created), '+', len(new_loser))\n",
        "  return list_gainer, list_created, new_loser\n"
      ],
      "execution_count": 0,
      "outputs": []
    },
    {
      "cell_type": "code",
      "metadata": {
        "id": "1bvI1cYgkeFV",
        "colab_type": "code",
        "outputId": "102289f4-1b4e-47de-d779-3e7f85a1c732",
        "colab": {
          "base_uri": "https://localhost:8080/",
          "height": 67
        }
      },
      "source": [
        "train_images = parse_annotation('train.xml')\n",
        "test_images = parse_annotation('test.xml')\n",
        "print(len(train_images), len(test_images))\n",
        "print('After slicing:')\n",
        "train_images, val_images, test_images = slice_dataset(train_images, test_images, 0.7, 0.15, 0.15)"
      ],
      "execution_count": 6,
      "outputs": [
        {
          "output_type": "stream",
          "text": [
            "100 249\n",
            "After slicing:\n",
            "349 = 244 + 52 + 53\n"
          ],
          "name": "stdout"
        }
      ]
    },
    {
      "cell_type": "code",
      "metadata": {
        "id": "fPWoEQEC8Oqg",
        "colab_type": "code",
        "colab": {
          "base_uri": "https://localhost:8080/",
          "height": 356
        },
        "outputId": "b3792c83-cd8e-4903-9702-38cee28f845f"
      },
      "source": [
        "import pprint \n",
        "pp = pprint.PrettyPrinter(indent=3)\n",
        "pp.pprint(train_images[0])"
      ],
      "execution_count": 7,
      "outputs": [
        {
          "output_type": "stream",
          "text": [
            "{  'filename': '/content/drive/My Drive/SVT/img/14_03.jpg',\n",
            "   'height': 880,\n",
            "   'lex': 'LIVING,ROOM,THEATERS,KENNY,ZUKE,DELICATESSEN,CLYDE,COMMON,ACE,HOTEL,PORTLAND,ROSE,CITY,BOOKS,STUMPTOWN,COFFEE,ROASTERS,RED,CAP,GARAGE,FISH,GROTTO,SEAFOOD,RESTAURANT,AURA,RESTAURANT,LOUNGE,ROCCO,PIZZA,PASTA,BUFFALO,EXCHANGE,MARK,SPENCER,LIGHT,FEZ,BALLROOM,READING,FRENZY,ROXY,SCANDALS,MARTINOTTI,CAFE,DELI,CROWSENBERG,HALF',\n",
            "   'object': [  {  'label': 'LIVING',\n",
            "                   'xmax': 611,\n",
            "                   'xmin': 375,\n",
            "                   'ymax': 328,\n",
            "                   'ymin': 253},\n",
            "                {  'label': 'ROOM',\n",
            "                   'xmax': 814,\n",
            "                   'xmin': 639,\n",
            "                   'ymax': 348,\n",
            "                   'ymin': 272},\n",
            "                {  'label': 'THEATERS',\n",
            "                   'xmax': 1120,\n",
            "                   'xmin': 839,\n",
            "                   'ymax': 370,\n",
            "                   'ymin': 283}],\n",
            "   'width': 1280}\n"
          ],
          "name": "stdout"
        }
      ]
    },
    {
      "cell_type": "code",
      "metadata": {
        "id": "Zg50yMbIlMZt",
        "colab_type": "code",
        "colab": {}
      },
      "source": [
        "# save lists for future use \n",
        "import pickle\n",
        "\n",
        "with open(os.path.join(path, 'train_images_.pickle'), 'wb') as handle:\n",
        "  pickle.dump(train_images, handle)\n",
        "\n",
        "with open(os.path.join(path, 'val_images_.pickle'), 'wb') as handle:\n",
        "  pickle.dump(val_images, handle)\n",
        "\n",
        "with open(os.path.join(path, 'test_images_.pickle'), 'wb') as handle:\n",
        "  pickle.dump(test_images, handle)\n"
      ],
      "execution_count": 0,
      "outputs": []
    }
  ]
}