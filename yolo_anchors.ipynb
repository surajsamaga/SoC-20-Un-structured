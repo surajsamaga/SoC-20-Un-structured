{
  "nbformat": 4,
  "nbformat_minor": 0,
  "metadata": {
    "colab": {
      "name": "yolo_anchors.ipynb",
      "provenance": [],
      "collapsed_sections": []
    },
    "kernelspec": {
      "name": "python3",
      "display_name": "Python 3"
    }
  },
  "cells": [
    {
      "cell_type": "code",
      "metadata": {
        "id": "-_zW3Ao9WfbD",
        "colab_type": "code",
        "colab": {}
      },
      "source": [
        "# generated new anchors for size 416\n",
        "import numpy as np\n",
        "import random\n",
        "import os"
      ],
      "execution_count": 0,
      "outputs": []
    },
    {
      "cell_type": "code",
      "metadata": {
        "id": "xhqaPMEn4n72",
        "colab_type": "code",
        "outputId": "b6c8e8ac-3feb-4c1a-bb06-e15b21d7f8c7",
        "colab": {
          "base_uri": "https://localhost:8080/",
          "height": 121
        }
      },
      "source": [
        "# Mount google drive\n",
        "from google.colab import drive\n",
        "drive.mount('/content/drive')"
      ],
      "execution_count": 2,
      "outputs": [
        {
          "output_type": "stream",
          "text": [
            "Go to this URL in a browser: https://accounts.google.com/o/oauth2/auth?client_id=947318989803-6bn6qk8qdgf4n4g3pfee6491hc0brc4i.apps.googleusercontent.com&redirect_uri=urn%3aietf%3awg%3aoauth%3a2.0%3aoob&response_type=code&scope=email%20https%3a%2f%2fwww.googleapis.com%2fauth%2fdocs.test%20https%3a%2f%2fwww.googleapis.com%2fauth%2fdrive%20https%3a%2f%2fwww.googleapis.com%2fauth%2fdrive.photos.readonly%20https%3a%2f%2fwww.googleapis.com%2fauth%2fpeopleapi.readonly\n",
            "\n",
            "Enter your authorization code:\n",
            "··········\n",
            "Mounted at /content/drive\n"
          ],
          "name": "stdout"
        }
      ]
    },
    {
      "cell_type": "code",
      "metadata": {
        "id": "MxjIwjYLmoS-",
        "colab_type": "code",
        "outputId": "544d763a-f2e0-4cf9-fa34-741e5ff6d71d",
        "colab": {
          "base_uri": "https://localhost:8080/",
          "height": 54
        }
      },
      "source": [
        "import pickle\n",
        "path = '/content/drive/My Drive/SVT'\n",
        "\n",
        "with open(os.path.join(path, 'train_images_.pickle'), 'rb') as handle:\n",
        "  train_images = pickle.load(handle)\n",
        "print(train_images[0])"
      ],
      "execution_count": 3,
      "outputs": [
        {
          "output_type": "stream",
          "text": [
            "{'filename': '/content/drive/My Drive/SVT/img/14_03.jpg', 'lex': 'LIVING,ROOM,THEATERS,KENNY,ZUKE,DELICATESSEN,CLYDE,COMMON,ACE,HOTEL,PORTLAND,ROSE,CITY,BOOKS,STUMPTOWN,COFFEE,ROASTERS,RED,CAP,GARAGE,FISH,GROTTO,SEAFOOD,RESTAURANT,AURA,RESTAURANT,LOUNGE,ROCCO,PIZZA,PASTA,BUFFALO,EXCHANGE,MARK,SPENCER,LIGHT,FEZ,BALLROOM,READING,FRENZY,ROXY,SCANDALS,MARTINOTTI,CAFE,DELI,CROWSENBERG,HALF', 'height': 880, 'width': 1280, 'object': [{'xmin': 375, 'ymin': 253, 'xmax': 611, 'ymax': 328, 'label': 'LIVING'}, {'xmin': 639, 'ymin': 272, 'xmax': 814, 'ymax': 348, 'label': 'ROOM'}, {'xmin': 839, 'ymin': 283, 'xmax': 1120, 'ymax': 370, 'label': 'THEATERS'}]}\n"
          ],
          "name": "stdout"
        }
      ]
    },
    {
      "cell_type": "code",
      "metadata": {
        "id": "nYomniaw3J5y",
        "colab_type": "code",
        "colab": {}
      },
      "source": [
        "# Define the parameters, global variables to be used \n",
        "def initialize():\n",
        "  IMAGE_DIMS = (416, 416)\n",
        "  IMAGE_W = IMAGE_DIMS[1]\n",
        "  IMAGE_H = IMAGE_DIMS[0]\n",
        "\n",
        "  GRID_DIMS = (32,32)\n",
        "  GRID_WSIZE = GRID_DIMS[1]\n",
        "  GRID_HSIZE = GRID_DIMS[0]\n",
        "\n",
        "  GRID_W = IMAGE_W//GRID_WSIZE\n",
        "  GRID_H = IMAGE_H//GRID_HSIZE\n",
        "\n",
        "  TRUE_BOX_BUFFER = 50\n",
        "  LAMBDA_COORD = 1\n",
        "  LAMBDA_NO_OBJECT = 1\n",
        "  LAMBDA_OBJECT = 5\n",
        "  BATCH_SIZE = 6\n",
        "  config_dict = {\n",
        "    'IMAGE_W'         : IMAGE_W, \n",
        "    'IMAGE_H'         : IMAGE_H,\n",
        "    'GRID_WSIZE'      : GRID_WSIZE,\n",
        "    'GRID_HSIZE'      : GRID_HSIZE,\n",
        "    'GRID_W'          : GRID_W,  \n",
        "    'GRID_H'          : GRID_H,\n",
        "\n",
        "    'TRUE_BOX_BUFFER' : TRUE_BOX_BUFFER,\n",
        "    'LAMBDA_COORD'     : LAMBDA_COORD,\n",
        "    'LAMBDA_NO_OBJECT' : LAMBDA_NO_OBJECT,\n",
        "    'LAMBDA_OBJECT'    : LAMBDA_OBJECT,\n",
        "    'BATCH_SIZE'      : BATCH_SIZE\n",
        "  }\n",
        "\n",
        "  return(config_dict)\n",
        "config = initialize()"
      ],
      "execution_count": 0,
      "outputs": []
    },
    {
      "cell_type": "code",
      "metadata": {
        "id": "T-cPuNz1d708",
        "colab_type": "code",
        "colab": {}
      },
      "source": [
        "def IOU(ann, centroids):\n",
        "  '''\n",
        "  computes iou between w,h from ann and c_w, c_h from centroids\n",
        "  inputs - \n",
        "    ann - tuple (w,h) from image list\n",
        "    centroids - computed anchors\n",
        "  outputs - \n",
        "    similarities - np array with ious\n",
        "  '''\n",
        "  w, h = ann # unpacking w and h from wh\n",
        "  similarities = []\n",
        "  for centroid in centroids:\n",
        "    c_w, c_h = centroid\n",
        "\n",
        "    if c_w >= w and c_h >= h:\n",
        "      similarity = w*h/(c_w*c_h)\n",
        "    elif c_w >= w and c_h <= h:\n",
        "      similarity = w*c_h/(w*h + (c_w-w)*c_h)\n",
        "    elif c_w <= w and c_h >= h:\n",
        "      similarity = c_w*h/(w*h + c_w*(c_h-h))\n",
        "    else: # both w,h are bigger than c_w and c_h respectively\n",
        "      similarity = (c_w*c_h)/(w*h)\n",
        "    similarities.append(similarity) \n",
        "\n",
        "  return np.array(similarities)"
      ],
      "execution_count": 0,
      "outputs": []
    },
    {
      "cell_type": "code",
      "metadata": {
        "id": "JCecU3nDguol",
        "colab_type": "code",
        "colab": {}
      },
      "source": [
        "def avg_IOU(anns, centroids):\n",
        "  '''\n",
        "  computes avg iou\n",
        "  inputs - \n",
        "    anns - list of tuples (w,h) from annotations\n",
        "    centroids - output of kmeans - anchors\n",
        "  outputs -\n",
        "    avg_iou - float value \n",
        "  '''\n",
        "  n,d = anns.shape\n",
        "  sum = 0.\n",
        "\n",
        "  for i in range(anns.shape[0]):\n",
        "    sum+= max(IOU(anns[i], centroids))  # anns[i] is a tuple (w, h) \n",
        "\n",
        "  return sum/n"
      ],
      "execution_count": 0,
      "outputs": []
    },
    {
      "cell_type": "code",
      "metadata": {
        "id": "aS8OhVSig-8W",
        "colab_type": "code",
        "colab": {}
      },
      "source": [
        "def print_anchors(centroids):\n",
        "  '''\n",
        "  prints computed anchors and save it in config dict\n",
        "  input - centroid - computed anchors\n",
        "  save anchors array in file\n",
        "  '''\n",
        "  anchors = centroids.copy()\n",
        "\n",
        "  widths = anchors[:, 0]\n",
        "  sorted_indices = np.argsort(widths)\n",
        "\n",
        "  r = \"anchors: [\"\n",
        "  for i in sorted_indices[:-1]:\n",
        "    r += '%0.2f,%0.2f, ' % (anchors[i,0], anchors[i,1])\n",
        "\n",
        "  #there should not be comma after last anchor, that's why\n",
        "  r += '%0.2f,%0.2f' % (anchors[sorted_indices[-1:],0], anchors[sorted_indices[-1:],1])\n",
        "  r += \"]\"\n",
        "\n",
        "  print(r)\n",
        "\n",
        "  # save config to file\n",
        "  np.save(os.path.join(path, 'anchors_.npy'), anchors)  # using global variable path"
      ],
      "execution_count": 0,
      "outputs": []
    },
    {
      "cell_type": "code",
      "metadata": {
        "id": "uA-5lQqLiO1B",
        "colab_type": "code",
        "colab": {}
      },
      "source": [
        "def run_kmeans(ann_dims, anchor_num):\n",
        "  '''\n",
        "  generates anchor boxes\n",
        "  inputs - \n",
        "    ann_dims - dimensions of ann list which contains tuples (wi, hi)\n",
        "    anchor_num - desired number of anchors\n",
        "  outputs - \n",
        "    centroids - computed anchors\n",
        "  '''\n",
        "  ann_num = ann_dims.shape[0]\n",
        "  iterations = 0\n",
        "  prev_assignments = np.ones(ann_num)*-1\n",
        "  iteration = 0 \n",
        "  old_distances = np.zeros((ann_num, anchor_num))\n",
        "  indices = [random.randrange(ann_dims.shape[0]) for i in range(anchor_num)]\n",
        "  centroids = ann_dims[indices]\n",
        "  anchor_dim = ann_dims.shape[1]\n",
        "\n",
        "  while True:\n",
        "    distances = []\n",
        "    iteration += 1\n",
        "    for i in range(ann_num):\n",
        "      d = 1 - IOU(ann_dims[i], centroids)\n",
        "      distances.append(d)\n",
        "    distances = np.array(distances) # distances.shape = (ann_num, anchor_num)\n",
        "\n",
        "    print(\"iteration {}: dists = {}\".format(iteration, np.sum(np.abs(old_distances-distances))))\n",
        "\n",
        "    #assign samples to centroids\n",
        "    assignments = np.argmin(distances,axis=1)\n",
        "\n",
        "    if (assignments == prev_assignments).all() :\n",
        "      return centroids\n",
        "\n",
        "    #calculate new centroids\n",
        "    centroid_sums=np.zeros((anchor_num, anchor_dim), np.float)\n",
        "    for i in range(ann_num):\n",
        "      centroid_sums[assignments[i]]+=ann_dims[i]\n",
        "    for j in range(anchor_num):\n",
        "      centroids[j] = centroid_sums[j]/(np.sum(assignments==j) + 1e-6)\n",
        "\n",
        "    prev_assignments = assignments.copy()\n",
        "    old_distances = distances.copy()"
      ],
      "execution_count": 0,
      "outputs": []
    },
    {
      "cell_type": "code",
      "metadata": {
        "id": "eDRdcyWEXuEm",
        "colab_type": "code",
        "colab": {}
      },
      "source": [
        "def datagen(mlist):\n",
        "  '''\n",
        "  generates list of bbox width and height(scaled wrt image_width) from training images\n",
        "  inputs - \n",
        "    mlist - list of dicts with annotation information\n",
        "  outputs - \n",
        "    wh - list of tuples (w,h) for each box in each image\n",
        "  global variable used - \n",
        "    config - dict with init information\n",
        "  '''\n",
        "  wh = []\n",
        "  for image in mlist:\n",
        "    cell_w = float(image['width'])/float(config['GRID_W'])\n",
        "    cell_h = float(image['height'])/float(config['GRID_H'])\n",
        "    for obj in image['object']:\n",
        "      w = (float(obj['xmax']) - float(obj['xmin']))/cell_w\n",
        "      h = (float(obj['ymax']) - float(obj['ymin']))/cell_h\n",
        "      wh.append(tuple(map(float, (w,h))))\n",
        "  wh = np.array(wh)\n",
        "  print('wh shape ={}'.format(wh.shape))\n",
        "  print('data ready for anchor generation')\n",
        "  return wh"
      ],
      "execution_count": 0,
      "outputs": []
    },
    {
      "cell_type": "code",
      "metadata": {
        "id": "bA-8_906Z9vk",
        "colab_type": "code",
        "colab": {}
      },
      "source": [
        "def main(num_anchors):\n",
        "  '''\n",
        "  create list of width and height from annotations for running k-means\n",
        "  run kmeans to get centroids\n",
        "  print the results of k-means\n",
        "  '''\n",
        "  \n",
        "  annotation_dims = datagen(train_images)\n",
        "  centroids = run_kmeans(annotation_dims, num_anchors)\n",
        "  \n",
        "  print('\\naverage IOU for', num_anchors, 'anchors:', '{}'.format(avg_IOU(annotation_dims, centroids)))\n",
        "  print_anchors(centroids)"
      ],
      "execution_count": 0,
      "outputs": []
    },
    {
      "cell_type": "code",
      "metadata": {
        "id": "ZZTJN7R2_1JY",
        "colab_type": "code",
        "colab": {
          "base_uri": "https://localhost:8080/",
          "height": 706
        },
        "outputId": "722377c9-f420-480f-83c0-2ecdce787cff"
      },
      "source": [
        "main(num_anchors = 5)"
      ],
      "execution_count": 11,
      "outputs": [
        {
          "output_type": "stream",
          "text": [
            "wh shape =(632, 2)\n",
            "data ready for anchor generation\n",
            "iteration 1: dists = 1944.982598754461\n",
            "iteration 2: dists = 155.81938587066549\n",
            "iteration 3: dists = 70.91337830372696\n",
            "iteration 4: dists = 45.609289218194505\n",
            "iteration 5: dists = 37.33483060041165\n",
            "iteration 6: dists = 35.121263744262045\n",
            "iteration 7: dists = 29.53644971671598\n",
            "iteration 8: dists = 33.558983327252726\n",
            "iteration 9: dists = 32.98399108068922\n",
            "iteration 10: dists = 23.588184485687393\n",
            "iteration 11: dists = 19.454777720382626\n",
            "iteration 12: dists = 25.2295646923385\n",
            "iteration 13: dists = 22.794049758235523\n",
            "iteration 14: dists = 20.395780322165546\n",
            "iteration 15: dists = 21.492252645606293\n",
            "iteration 16: dists = 29.099341284165057\n",
            "iteration 17: dists = 28.473443495196292\n",
            "iteration 18: dists = 28.072632728828793\n",
            "iteration 19: dists = 29.591832630646017\n",
            "iteration 20: dists = 24.004301170722513\n",
            "iteration 21: dists = 20.814994863882777\n",
            "iteration 22: dists = 14.478811612710977\n",
            "iteration 23: dists = 15.375808672412806\n",
            "iteration 24: dists = 6.870097904451601\n",
            "iteration 25: dists = 8.619121976265433\n",
            "iteration 26: dists = 7.154092513987223\n",
            "iteration 27: dists = 10.28763789750485\n",
            "iteration 28: dists = 12.598601250889146\n",
            "iteration 29: dists = 4.752585658534481\n",
            "iteration 30: dists = 2.4235865819823705\n",
            "iteration 31: dists = 1.1366589485531626\n",
            "iteration 32: dists = 1.140466389151813\n",
            "iteration 33: dists = 1.252536693833211\n",
            "iteration 34: dists = 3.076144713420769\n",
            "iteration 35: dists = 4.316182532656673\n",
            "iteration 36: dists = 1.4293325348531982\n",
            "\n",
            "average IOU for 5 anchors: 0.6934960151857157\n",
            "anchors: [0.73,0.46, 1.39,0.71, 2.40,0.99, 3.09,1.61, 5.87,2.33]\n"
          ],
          "name": "stdout"
        }
      ]
    }
  ]
}