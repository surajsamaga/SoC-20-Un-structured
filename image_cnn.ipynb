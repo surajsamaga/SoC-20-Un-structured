{
  "nbformat": 4,
  "nbformat_minor": 0,
  "metadata": {
    "colab": {
      "name": "image_cnn.ipynb",
      "provenance": [],
      "collapsed_sections": []
    },
    "kernelspec": {
      "name": "python3",
      "display_name": "Python 3"
    },
    "accelerator": "GPU"
  },
  "cells": [
    {
      "cell_type": "code",
      "metadata": {
        "id": "fg02JLxV50wu",
        "colab_type": "code",
        "outputId": "e77af1c7-e0a9-4783-943c-29e267e269a3",
        "colab": {
          "base_uri": "https://localhost:8080/",
          "height": 625
        }
      },
      "source": [
        "import matplotlib.pyplot as plt\n",
        "import random\n",
        "!pip install trdg\n",
        "from trdg.generators import GeneratorFromStrings  # used for generating text images for training \n",
        "import cv2\n",
        "import numpy as np\n",
        "import pickle\n",
        "from PIL import Image\n",
        "import os\n",
        "import copy\n",
        "# Mount google drive\n",
        "from google.colab import drive\n",
        "drive.mount('/content/drive')"
      ],
      "execution_count": 1,
      "outputs": [
        {
          "output_type": "stream",
          "text": [
            "Collecting trdg\n",
            "\u001b[?25l  Downloading https://files.pythonhosted.org/packages/53/de/c9783021266b0bf81386eb83590e0280c6fe15ca8a49d700bc2d9675d4c4/trdg-1.6.0-py3-none-any.whl (49.9MB)\n",
            "\u001b[K     |████████████████████████████████| 49.9MB 62kB/s \n",
            "\u001b[?25hRequirement already satisfied: requests>=2.20.0 in /usr/local/lib/python3.6/dist-packages (from trdg) (2.23.0)\n",
            "Requirement already satisfied: beautifulsoup4>=4.6.0 in /usr/local/lib/python3.6/dist-packages (from trdg) (4.6.3)\n",
            "Collecting opencv-python>=4.2.0.32\n",
            "\u001b[?25l  Downloading https://files.pythonhosted.org/packages/72/c2/e9cf54ae5b1102020ef895866a67cb2e1aef72f16dd1fde5b5fb1495ad9c/opencv_python-4.2.0.34-cp36-cp36m-manylinux1_x86_64.whl (28.2MB)\n",
            "\u001b[K     |████████████████████████████████| 28.2MB 111kB/s \n",
            "\u001b[?25hRequirement already satisfied: pillow==7.0.0 in /usr/local/lib/python3.6/dist-packages (from trdg) (7.0.0)\n",
            "Requirement already satisfied: tqdm>=4.23.0 in /usr/local/lib/python3.6/dist-packages (from trdg) (4.41.1)\n",
            "Requirement already satisfied: numpy>=1.17.3 in /usr/local/lib/python3.6/dist-packages (from trdg) (1.18.4)\n",
            "Collecting diffimg==0.2.3\n",
            "  Downloading https://files.pythonhosted.org/packages/3d/fa/de925a7c2203b52f007ad6b9cce343c21dbe389a221a4f51f25960c83d8b/diffimg-0.2.3.tar.gz\n",
            "Requirement already satisfied: idna<3,>=2.5 in /usr/local/lib/python3.6/dist-packages (from requests>=2.20.0->trdg) (2.9)\n",
            "Requirement already satisfied: chardet<4,>=3.0.2 in /usr/local/lib/python3.6/dist-packages (from requests>=2.20.0->trdg) (3.0.4)\n",
            "Requirement already satisfied: certifi>=2017.4.17 in /usr/local/lib/python3.6/dist-packages (from requests>=2.20.0->trdg) (2020.4.5.1)\n",
            "Requirement already satisfied: urllib3!=1.25.0,!=1.25.1,<1.26,>=1.21.1 in /usr/local/lib/python3.6/dist-packages (from requests>=2.20.0->trdg) (1.24.3)\n",
            "Building wheels for collected packages: diffimg\n",
            "  Building wheel for diffimg (setup.py) ... \u001b[?25l\u001b[?25hdone\n",
            "  Created wheel for diffimg: filename=diffimg-0.2.3-cp36-none-any.whl size=4049 sha256=8bb5cf3b8358c5eae7c1a68088a15dfdda3688327a634ac70f47f088ece5a6d3\n",
            "  Stored in directory: /root/.cache/pip/wheels/92/46/95/1de38a4ccb7811e6cc67fcc3594ea25180f85b70c406bdf0c3\n",
            "Successfully built diffimg\n",
            "\u001b[31mERROR: albumentations 0.1.12 has requirement imgaug<0.2.7,>=0.2.5, but you'll have imgaug 0.2.9 which is incompatible.\u001b[0m\n",
            "Installing collected packages: opencv-python, diffimg, trdg\n",
            "  Found existing installation: opencv-python 4.1.2.30\n",
            "    Uninstalling opencv-python-4.1.2.30:\n",
            "      Successfully uninstalled opencv-python-4.1.2.30\n",
            "Successfully installed diffimg-0.2.3 opencv-python-4.2.0.34 trdg-1.6.0\n"
          ],
          "name": "stdout"
        },
        {
          "output_type": "stream",
          "text": [
            "/usr/local/lib/python3.6/dist-packages/statsmodels/tools/_testing.py:19: FutureWarning: pandas.util.testing is deprecated. Use the functions in the public API at pandas.testing instead.\n",
            "  import pandas.util.testing as tm\n"
          ],
          "name": "stderr"
        },
        {
          "output_type": "stream",
          "text": [
            "Go to this URL in a browser: https://accounts.google.com/o/oauth2/auth?client_id=947318989803-6bn6qk8qdgf4n4g3pfee6491hc0brc4i.apps.googleusercontent.com&redirect_uri=urn%3aietf%3awg%3aoauth%3a2.0%3aoob&response_type=code&scope=email%20https%3a%2f%2fwww.googleapis.com%2fauth%2fdocs.test%20https%3a%2f%2fwww.googleapis.com%2fauth%2fdrive%20https%3a%2f%2fwww.googleapis.com%2fauth%2fdrive.photos.readonly%20https%3a%2f%2fwww.googleapis.com%2fauth%2fpeopleapi.readonly\n",
            "\n",
            "Enter your authorization code:\n",
            "··········\n",
            "Mounted at /content/drive\n"
          ],
          "name": "stdout"
        }
      ]
    },
    {
      "cell_type": "code",
      "metadata": {
        "id": "ZxJdK3k859lk",
        "colab_type": "code",
        "outputId": "ebf126f9-f4b0-4909-b89f-7b20baa2c37f",
        "colab": {
          "base_uri": "https://localhost:8080/",
          "height": 34
        }
      },
      "source": [
        "import tensorflow as tf\n",
        "from keras.models import Sequential, Model, load_model\n",
        "from keras.layers import *\n",
        "from keras.callbacks import ModelCheckpoint\n",
        "from keras.optimizers import SGD\n",
        "from keras.losses import categorical_crossentropy \n",
        "from keras.utils import Sequence\n",
        "import keras"
      ],
      "execution_count": 2,
      "outputs": [
        {
          "output_type": "stream",
          "text": [
            "Using TensorFlow backend.\n"
          ],
          "name": "stderr"
        }
      ]
    },
    {
      "cell_type": "code",
      "metadata": {
        "id": "H6Epz9yOZx5R",
        "colab_type": "code",
        "colab": {}
      },
      "source": [
        "!pip freeze > requirements.txt"
      ],
      "execution_count": 0,
      "outputs": []
    },
    {
      "cell_type": "code",
      "metadata": {
        "id": "9f0gpuQb6AWy",
        "colab_type": "code",
        "colab": {}
      },
      "source": [
        "# load lists with image information\n",
        "with open('/content/drive/My Drive/SVT/train_images_.pickle', 'rb') as fp:\n",
        "  train_images = pickle.load(fp)\n",
        "with open('/content/drive/My Drive/SVT/val_images_.pickle', 'rb') as fp:\n",
        "  valid_images = pickle.load(fp)\n",
        "with open('/content/drive/My Drive/SVT/test_images_.pickle', 'rb') as fp:\n",
        "  test_images = pickle.load(fp)"
      ],
      "execution_count": 0,
      "outputs": []
    },
    {
      "cell_type": "code",
      "metadata": {
        "id": "PaTqSenH6CQO",
        "colab_type": "code",
        "outputId": "83f6ec17-0dcd-4000-8ef8-0f9480deb763",
        "colab": {
          "base_uri": "https://localhost:8080/",
          "height": 34
        }
      },
      "source": [
        "with open('/content/drive/My Drive/SVT/FINAL_LEXICON.pickle', 'rb') as fp:\n",
        "  # load list of possible output words\n",
        "  LEXICON = pickle.load(fp)\n",
        "print(LEXICON[:5])"
      ],
      "execution_count": 4,
      "outputs": [
        {
          "output_type": "stream",
          "text": [
            "['BLOOD', 'MICHAEL', 'FRANCIS', 'DELI', 'SHOCKS']\n"
          ],
          "name": "stdout"
        }
      ]
    },
    {
      "cell_type": "code",
      "metadata": {
        "id": "_mkb7vFy6Jb9",
        "colab_type": "code",
        "outputId": "f4355821-6442-4939-970d-c6729bf8a4a3",
        "colab": {
          "base_uri": "https://localhost:8080/",
          "height": 50
        }
      },
      "source": [
        "# prepare final list of words to be fed into GeneratorFromStrings to generate images  \n",
        "caps = LEXICON *4\n",
        "titles = [ele.title() for ele in caps]\n",
        "list_concat = []\n",
        "list_concat.append(caps)\n",
        "list_concat.append(titles)\n",
        "NEW_LEX = [item for sublist in list_concat for item in sublist]\n",
        "print(len(NEW_LEX)) # GLOBAL\n",
        "print(NEW_LEX[:5])"
      ],
      "execution_count": 0,
      "outputs": [
        {
          "output_type": "stream",
          "text": [
            "42904\n",
            "['BLOOD', 'MICHAEL', 'FRANCIS', 'DELI', 'SHOCKS']\n"
          ],
          "name": "stdout"
        }
      ]
    },
    {
      "cell_type": "code",
      "metadata": {
        "id": "G4tos4COIbBy",
        "colab_type": "code",
        "colab": {}
      },
      "source": [
        "######## DOWNLOAD AND USE GOOGLE FONTS TO IMPROVE RESULTS, not used due to memory issues ########\n",
        "\n",
        "# download google fonts from https://github.com/google/fonts/archive/master.zip\n",
        "\n",
        "# def getfonts(dirname):\n",
        "#   # dirname - directory where the fonts directories are stored\n",
        "#   path = os.path.join('/content/drive/My Drive/SVT',dirname)\n",
        "#   fontnames = []\n",
        "#   for font in os.listdir(path):\n",
        "#     fontnames.append(font)\n",
        "#   return fontnames\n",
        "\n",
        "# FONTNAMES = getfonts('ofl')  #GLOBAL\n",
        "# random.shuffle(FONTNAMES)\n",
        "# FINALFONTS = FONTNAMES[:100]\n",
        "\n",
        "# def get_random_font(dirname):\n",
        "#   # dirname - directory where the fonts directories are stored\n",
        "#   path = os.path.join('/content/drive/My Drive/SVT', dirname)\n",
        "\n",
        "#   inp = random.choice(FINALFONTS)\n",
        "#   result = [each for each in os.listdir(os.path.join(path, inp)) if each.endswith('.ttf')]\n",
        "#   fname = random.choice(result)\n",
        "#   fonts = [os.path.join(os.path.join(path, inp), fname)]\n",
        "#   return fonts"
      ],
      "execution_count": 0,
      "outputs": []
    },
    {
      "cell_type": "code",
      "metadata": {
        "id": "UCuGhyVt6LfV",
        "colab_type": "code",
        "colab": {}
      },
      "source": [
        "class TrainBatchGenerator(Sequence):\n",
        "  # Batch Generator which outputs x_batch(images), y_batch(labels)\n",
        "\n",
        "  def __init__(self, image_wordlist, label_wordlist, config, shuffle = True):\n",
        "    \n",
        "    self.config = config  # dictionary with relevant image information \n",
        "    self.wordlist = image_wordlist.copy()  #  lexicon to be used for image (x) generation\n",
        "    self.ylist = label_wordlist.copy()  # lexicon to be used for label (y) generation\n",
        "    self.num_classes = len(self.ylist) # number of labels (to be incrementally increased)\n",
        "    self.shuffle = shuffle\n",
        "\n",
        "  def __len__(self):\n",
        "    # denotes number of batches per epoch\n",
        "    return int(np.ceil(float(len(self.wordlist)) / self.config['BATCH_SIZE']))\n",
        "\n",
        "  def on_epoch_end(self):\n",
        "    # shuffle at end of epoch for variability\n",
        "    if self.shuffle:\n",
        "      random.shuffle(self.wordlist)\n",
        "\n",
        "  def preprocess(self, image, invert_colours = False):\n",
        "    # preprocess image-\n",
        "    img = np.asarray(image).astype('float32')\n",
        "    img = cv2.resize(img, (self.config['IMAGE_W'], self.config['IMAGE_H']))\n",
        "    img = cv2.GaussianBlur(img, (5,5), 0)\n",
        "    img = cv2.cvtColor(img, cv2.COLOR_RGB2GRAY)\n",
        "\n",
        "    maxIntensity = 255.0 \n",
        "    phi = 1\n",
        "    theta = 1\n",
        "\n",
        "    if invert_colours:# if black background, white text\n",
        "      img = 255 - img\n",
        "      img = (maxIntensity/phi)*(img/(maxIntensity/theta))**0.5\n",
        "    else:\n",
        "      img = (maxIntensity/phi)*(img/(maxIntensity/theta))**2\n",
        "\n",
        "    img =img.astype('float32')\n",
        "    mean, std = cv2.meanStdDev(img)\n",
        "    img = (img-mean)/std\n",
        "    img = img.reshape((self.config['IMAGE_H'], self.config['IMAGE_W'], self.config['N_C']))\n",
        "    return img\n",
        "\n",
        "  def __getitem__(self, idx):\n",
        "    # to find the left and right bounds for x_batch and y_batch creation\n",
        "    l_bound = idx * self.config['BATCH_SIZE']\n",
        "    r_bound = (idx + 1) * self.config['BATCH_SIZE']\n",
        "    if r_bound > len(self.wordlist):\n",
        "      r_bound = len(self.wordlist)\n",
        "      l_bound = r_bound - self.config['BATCH_SIZE']\n",
        "\n",
        "    use_list = self.wordlist[l_bound:r_bound].copy()  #slice wordlist to generate img, lbl\n",
        "\n",
        "    x_batch = np.zeros((r_bound - l_bound, self.config['IMAGE_H'], self.config['IMAGE_W'], self.config['N_C']))\n",
        "    y_batch = np.zeros((r_bound - l_bound, self.num_classes)) \n",
        "\n",
        "    instance_count = 0\n",
        "\n",
        "    for element in use_list:\n",
        "      # generate images with different distortion, skew and backgrounds\n",
        "      mygenerator = GeneratorFromStrings([element], count = 1, text_color = '#000000', background_type = random.choice([0,1]),\n",
        "                           distorsion_type=random.choice([0,1]), distorsion_orientation= random.choice([0,1]),\n",
        "                           skewing_angle = random.randint(354,366),margins = (2,2,2,2), fit = True)\n",
        "      \n",
        "      for img, lbl in mygenerator:  # iterating over 1 image, label pair only\n",
        "        img = self.preprocess(img, random.choice([True, False]))\n",
        "        x_batch[instance_count] = img \n",
        "\n",
        "        if lbl.upper() in self.ylist: # .upper() as LEXICON (list of labels) has only uppercase words, whereas dataset has both \n",
        "          index = self.ylist.index(lbl.upper())\n",
        "          y_batch[instance_count, index] = 1\n",
        "\n",
        "      instance_count += 1\n",
        "    \n",
        "    p = np.random.permutation(x_batch.shape[0]) # shuffle x and y before output for better results\n",
        "    x_batch = x_batch[p]\n",
        "    y_batch = y_batch[p] \n",
        "    return x_batch, y_batch"
      ],
      "execution_count": 0,
      "outputs": []
    },
    {
      "cell_type": "code",
      "metadata": {
        "id": "vicSnl5k6PHF",
        "colab_type": "code",
        "colab": {}
      },
      "source": [
        "def SVTGen(img_dict, label_wordlist, config_dict):\n",
        "  '''\n",
        "  Generate images and labels from svt datasets\n",
        "  Not using generator as batchsize needs to be fixed, but number of cropped regions from a particular image is variable\n",
        "  inputs-\n",
        "    img_dict - list of dicts with image info\n",
        "    label_wordlist - list of words in lexicon to map the labels\n",
        "    config_dict - dict with info about image size\n",
        "  outputs -\n",
        "    x_train, y_train - images, labels of shape (total_obj_num,32,100,1) and (total_obj_num, 4832)\n",
        "  '''\n",
        "  obj_num = 0\n",
        "  for inst in img_dict: # generating total number of images \n",
        "    obj_num += len(inst['object'])\n",
        "      \n",
        "  x_train = np.zeros((obj_num, config_dict['IMAGE_H'], config_dict['IMAGE_W'], config_dict['N_C']))\n",
        "  y_train = np.zeros((obj_num, len(label_wordlist)))\n",
        "  instance_count = 0\n",
        "\n",
        "  for train_instance in img_dict:\n",
        "    fname = train_instance['filename']\n",
        "    img = cv2.imread(fname)\n",
        "\n",
        "    for obj in train_instance['object']:\n",
        "      c_img = img[obj['ymin']:obj['ymax'], obj['xmin']:obj['xmax']].copy()\n",
        "      # scaling image as predicted boxes may not be perfect\n",
        "      # h,w,c = c_img.shape\n",
        "      # if aug:\n",
        "      #   ### scale the image, by 0 to 10%\n",
        "      #   scale = np.random.uniform()/4. + 1.  \n",
        "      #   c_img = cv2.resize(c_img, (0,0), fx = scale, fy = scale)\n",
        "\n",
        "      #   ### translate the image\n",
        "      #   max_offx = (scale-1.) * w\n",
        "      #   max_offy = (scale-1.) * h\n",
        "      #   offx = int(np.random.uniform() * max_offx)\n",
        "      #   offy = int(np.random.uniform() * max_offy)\n",
        "            \n",
        "      #   c_img = c_img[offy : (offy + h), offx : (offx + w)]\n",
        "\n",
        "      c_img = cv2.resize(c_img, (config_dict['IMAGE_W'], config_dict['IMAGE_H']))\n",
        "      c_img = cv2.GaussianBlur(c_img, (5,5), 0)\n",
        "      c_img = cv2.cvtColor(c_img, cv2.COLOR_BGR2GRAY)\n",
        "\n",
        "      # maxIntensity = 255.0 \n",
        "      # phi = 1\n",
        "      # theta = 1\n",
        "\n",
        "      # c_img = (maxIntensity/phi)*(c_img/(maxIntensity/theta))**2\n",
        "      # c_img = c_img.astype('float32')\n",
        "\n",
        "      mean, std = cv2.meanStdDev(c_img)\n",
        "      c_img = (c_img-mean)/std\n",
        "      x_train[instance_count] = c_img.reshape(config_dict['IMAGE_H'], config_dict['IMAGE_W'], config_dict['N_C'])\n",
        "\n",
        "      lbl = obj['label']\n",
        "      if lbl in label_wordlist:\n",
        "        index = label_wordlist.index(lbl)\n",
        "        y_train[instance_count, index] = 1\n",
        "\n",
        "      instance_count += 1\n",
        "  return x_train, y_train"
      ],
      "execution_count": 0,
      "outputs": []
    },
    {
      "cell_type": "code",
      "metadata": {
        "id": "ylxQCTtX6TRL",
        "colab_type": "code",
        "colab": {}
      },
      "source": [
        "class SVT_2(Sequence):\n",
        "  # batch generator for svt data, only reorganizes xtrain, ytrain obtained from SVTGen into tensors of fixed batch size\n",
        "  \n",
        "  def __init__(self, xtrain, ytrain, batch_size, shuffle = True):\n",
        "    self.xtrain = xtrain.copy()\n",
        "    self.ytrain = ytrain.copy()\n",
        "    self.batch_size = batch_size\n",
        "    self.shuffle = True\n",
        "\n",
        "  def __len__(self):\n",
        "    return int(np.ceil(float(self.xtrain.shape[0])/self.batch_size))\n",
        "\n",
        "  def on_epoch_end(self):\n",
        "    if self.shuffle:\n",
        "      p = np.random.permutation(self.xtrain.shape[0])\n",
        "      self.xtrain = self.xtrain[p]\n",
        "      self.ytrain = self.ytrain[p]\n",
        "    \n",
        "  def __getitem__(self, idx):\n",
        "    l_bound = idx * self.batch_size\n",
        "    r_bound = (idx + 1) * self.batch_size\n",
        "    if r_bound > (self.xtrain.shape[0]):\n",
        "      r_bound = (self.xtrain.shape[0])\n",
        "      l_bound = r_bound - self.batch_size\n",
        "    x_batch = self.xtrain[l_bound:r_bound].copy()\n",
        "    y_batch = self.ytrain[l_bound:r_bound].copy()\n",
        "\n",
        "    p = np.random.permutation(x_batch.shape[0])\n",
        "    x_batch = x_batch[p]\n",
        "    y_batch = y_batch[p] \n",
        "    return x_batch, y_batch"
      ],
      "execution_count": 0,
      "outputs": []
    },
    {
      "cell_type": "code",
      "metadata": {
        "id": "dKiesp2o6Wz2",
        "colab_type": "code",
        "outputId": "a9236999-9264-4638-f2b8-116e920fa642",
        "colab": {
          "base_uri": "https://localhost:8080/",
          "height": 34
        }
      },
      "source": [
        "train_config = {\n",
        "    'BATCH_SIZE'  : 1024, # using large batch size else model doesn't learn well\n",
        "    'IMAGE_H'     : 32,\n",
        "    'IMAGE_W'     : 100,\n",
        "    'N_C'         : 1\n",
        "}\n",
        "svt_config = {\n",
        "    'IMAGE_H'     : 32,\n",
        "    'IMAGE_W'     : 100,\n",
        "    'N_C'         : 1\n",
        "}\n",
        "NUM_CLASSES = len(LEXICON)  # global variable denoting number of classes (words) in the final softmax layer\n",
        "print(NUM_CLASSES)"
      ],
      "execution_count": 0,
      "outputs": [
        {
          "output_type": "stream",
          "text": [
            "5363\n"
          ],
          "name": "stdout"
        }
      ]
    },
    {
      "cell_type": "code",
      "metadata": {
        "id": "KFPJeyJB6Xqz",
        "colab_type": "code",
        "colab": {}
      },
      "source": [
        "train_batch = TrainBatchGenerator(NEW_LEX,LEXICON, train_config)\n",
        "xtrain, ytrain = SVTGen(train_images, LEXICON, svt_config)\n",
        "svt_batch = SVT_2(xtrain, ytrain, 64) # batchsize = 64 for svt data"
      ],
      "execution_count": 0,
      "outputs": []
    },
    {
      "cell_type": "code",
      "metadata": {
        "id": "3_u18Bs5Mmwv",
        "colab_type": "code",
        "outputId": "e7d68873-8c5e-4d38-898a-968aeb00514a",
        "colab": {
          "base_uri": "https://localhost:8080/",
          "height": 174
        }
      },
      "source": [
        "j = 23\n",
        "xt, yt = train_batch.__getitem__(0)\n",
        "plt.imshow(xt[j].reshape((32,100)), cmap = 'gray')\n",
        "print(LEXICON[np.argmax(yt[j])])"
      ],
      "execution_count": 0,
      "outputs": [
        {
          "output_type": "stream",
          "text": [
            "BRAKES\n"
          ],
          "name": "stdout"
        },
        {
          "output_type": "display_data",
          "data": {
            "image/png": "[encoded data removed]",
            "text/plain": [
              "<Figure size 432x288 with 1 Axes>"
            ]
          },
          "metadata": {
            "tags": [],
            "needs_background": "light"
          }
        }
      ]
    },
    {
      "cell_type": "code",
      "metadata": {
        "id": "amCB1Xevw90R",
        "colab_type": "code",
        "outputId": "663b847b-d433-4c6d-a5c2-9755f2770659",
        "colab": {
          "base_uri": "https://localhost:8080/",
          "height": 174
        }
      },
      "source": [
        "xv, yv = svt_batch.__getitem__(0)\n",
        "plt.imshow(xv[j].reshape((32,100)), cmap = 'gray')\n",
        "print(LEXICON[np.argmax(yv[j])])"
      ],
      "execution_count": 0,
      "outputs": [
        {
          "output_type": "stream",
          "text": [
            "SHOE\n"
          ],
          "name": "stdout"
        },
        {
          "output_type": "display_data",
          "data": {
            "image/png": "[encoded data removed]",
            "text/plain": [
              "<Figure size 432x288 with 1 Axes>"
            ]
          },
          "metadata": {
            "tags": [],
            "needs_background": "light"
          }
        }
      ]
    },
    {
      "cell_type": "code",
      "metadata": {
        "id": "QjxE7RIM6bss",
        "colab_type": "code",
        "outputId": "3a4f1f39-bc92-456f-82ae-cd8481b99cc6",
        "colab": {
          "base_uri": "https://localhost:8080/",
          "height": 1000
        }
      },
      "source": [
        "def get_model(IM_H, IM_W, N_C, num_classes):\n",
        "  inp = Input(shape = (IM_H, IM_W, N_C))\n",
        "\n",
        "  x = Conv2D(filters = 64, kernel_size = 5, padding = 'same')(inp)\n",
        "  x = BatchNormalization()(x)\n",
        "  x = Activation('relu')(x)\n",
        "  # x = Dropout(0.2)(x)\n",
        "  x = MaxPooling2D((2,2))(x)\n",
        "\n",
        "  x = Conv2D(filters = 128, kernel_size = 5, padding = 'same')(x)\n",
        "  x = BatchNormalization()(x)\n",
        "  x = Activation('relu')(x)\n",
        "  # x = Dropout(0.2)(x)\n",
        "  x = MaxPooling2D((2,2))(x)\n",
        "\n",
        "  x = Conv2D(filters = 256, kernel_size = 3, padding = 'same')(x)\n",
        "  x = BatchNormalization()(x)\n",
        "  x = Activation('relu')(x)\n",
        "  # x = Dropout(0.2)(x)\n",
        "  x = MaxPooling2D((2,2))(x)\n",
        "\n",
        "  x = Conv2D(filters = 512, kernel_size = 3, padding = 'same')(x)\n",
        "  x = BatchNormalization()(x)\n",
        "  x = Activation('relu')(x)\n",
        "  # x = Dropout(0.2)(x)\n",
        "  # x = MaxPooling2D((2,2))(x)\n",
        "\n",
        "  x = Conv2D(filters = 512, kernel_size = 3, padding = 'same')(x)\n",
        "  x = BatchNormalization()(x)\n",
        "  x = Activation('relu')(x)\n",
        "  # x = Dropout(0.2)(x)\n",
        "  x = MaxPooling2D((2,2))(x)\n",
        "\n",
        "  x = Flatten()(x)\n",
        "\n",
        "  x = Dense(units = 4000)(x)\n",
        "  x = BatchNormalization()(x)\n",
        "  x = Activation('relu')(x)\n",
        "  x = Dropout(0.5)(x)\n",
        "\n",
        "  x = Dense(units = 4000)(x)\n",
        "  x = BatchNormalization()(x)\n",
        "  x = Activation('relu')(x)\n",
        "  x = Dropout(0.5)(x)\n",
        "\n",
        "  outputs = Dense(units = num_classes, activation = 'softmax')(x)\n",
        "\n",
        "  model = Model(inputs= inp, outputs = outputs)\n",
        "  return model\n",
        "model = get_model(train_config['IMAGE_H'], train_config['IMAGE_W'], train_config['N_C'], NUM_CLASSES)\n",
        "model.summary()\n",
        "# model.load_weights('/content/drive/My Drive/SVT/cnn_model/final_model_150ep.h5')"
      ],
      "execution_count": 0,
      "outputs": [
        {
          "output_type": "stream",
          "text": [
            "Model: \"model_1\"\n",
            "_________________________________________________________________\n",
            "Layer (type)                 Output Shape              Param #   \n",
            "=================================================================\n",
            "input_1 (InputLayer)         (None, 32, 100, 1)        0         \n",
            "_________________________________________________________________\n",
            "conv2d_1 (Conv2D)            (None, 32, 100, 64)       1664      \n",
            "_________________________________________________________________\n",
            "batch_normalization_1 (Batch (None, 32, 100, 64)       256       \n",
            "_________________________________________________________________\n",
            "activation_1 (Activation)    (None, 32, 100, 64)       0         \n",
            "_________________________________________________________________\n",
            "max_pooling2d_1 (MaxPooling2 (None, 16, 50, 64)        0         \n",
            "_________________________________________________________________\n",
            "conv2d_2 (Conv2D)            (None, 16, 50, 128)       204928    \n",
            "_________________________________________________________________\n",
            "batch_normalization_2 (Batch (None, 16, 50, 128)       512       \n",
            "_________________________________________________________________\n",
            "activation_2 (Activation)    (None, 16, 50, 128)       0         \n",
            "_________________________________________________________________\n",
            "max_pooling2d_2 (MaxPooling2 (None, 8, 25, 128)        0         \n",
            "_________________________________________________________________\n",
            "conv2d_3 (Conv2D)            (None, 8, 25, 256)        295168    \n",
            "_________________________________________________________________\n",
            "batch_normalization_3 (Batch (None, 8, 25, 256)        1024      \n",
            "_________________________________________________________________\n",
            "activation_3 (Activation)    (None, 8, 25, 256)        0         \n",
            "_________________________________________________________________\n",
            "max_pooling2d_3 (MaxPooling2 (None, 4, 12, 256)        0         \n",
            "_________________________________________________________________\n",
            "conv2d_4 (Conv2D)            (None, 4, 12, 512)        1180160   \n",
            "_________________________________________________________________\n",
            "batch_normalization_4 (Batch (None, 4, 12, 512)        2048      \n",
            "_________________________________________________________________\n",
            "activation_4 (Activation)    (None, 4, 12, 512)        0         \n",
            "_________________________________________________________________\n",
            "conv2d_5 (Conv2D)            (None, 4, 12, 512)        2359808   \n",
            "_________________________________________________________________\n",
            "batch_normalization_5 (Batch (None, 4, 12, 512)        2048      \n",
            "_________________________________________________________________\n",
            "activation_5 (Activation)    (None, 4, 12, 512)        0         \n",
            "_________________________________________________________________\n",
            "max_pooling2d_4 (MaxPooling2 (None, 2, 6, 512)         0         \n",
            "_________________________________________________________________\n",
            "flatten_1 (Flatten)          (None, 6144)              0         \n",
            "_________________________________________________________________\n",
            "dense_1 (Dense)              (None, 4000)              24580000  \n",
            "_________________________________________________________________\n",
            "batch_normalization_6 (Batch (None, 4000)              16000     \n",
            "_________________________________________________________________\n",
            "activation_6 (Activation)    (None, 4000)              0         \n",
            "_________________________________________________________________\n",
            "dropout_1 (Dropout)          (None, 4000)              0         \n",
            "_________________________________________________________________\n",
            "dense_2 (Dense)              (None, 4000)              16004000  \n",
            "_________________________________________________________________\n",
            "batch_normalization_7 (Batch (None, 4000)              16000     \n",
            "_________________________________________________________________\n",
            "activation_7 (Activation)    (None, 4000)              0         \n",
            "_________________________________________________________________\n",
            "dropout_2 (Dropout)          (None, 4000)              0         \n",
            "_________________________________________________________________\n",
            "dense_3 (Dense)              (None, 5363)              21457363  \n",
            "=================================================================\n",
            "Total params: 66,120,979\n",
            "Trainable params: 66,102,035\n",
            "Non-trainable params: 18,944\n",
            "_________________________________________________________________\n"
          ],
          "name": "stdout"
        }
      ]
    },
    {
      "cell_type": "code",
      "metadata": {
        "id": "GgZg_pDv6iQD",
        "colab_type": "code",
        "colab": {}
      },
      "source": [
        "model.compile(optimizer = keras.optimizers.sgd(lr = 0.01, decay = 0.01/150), loss = categorical_crossentropy, metrics = ['accuracy'])"
      ],
      "execution_count": 0,
      "outputs": []
    },
    {
      "cell_type": "code",
      "metadata": {
        "id": "zt89tS-c6lyp",
        "colab_type": "code",
        "colab": {}
      },
      "source": [
        "checkpoint = ModelCheckpoint('/content/drive/My Drive/SVT/cnn_model/final150ep.h5', \n",
        "                             monitor='val_loss', \n",
        "                             verbose=1, \n",
        "                             save_best_only=True, \n",
        "                             mode='min', \n",
        "                             period=1)\n",
        "history = model.fit_generator(generator = train_batch, \n",
        "                    steps_per_epoch  = len(train_batch), \n",
        "                    epochs           = 150, \n",
        "                    verbose          = 1,\n",
        "                    validation_data  = svt_batch,\n",
        "                    validation_steps = len(svt_batch),\n",
        "                    callbacks        = [checkpoint], \n",
        "                    max_queue_size   = 3)"
      ],
      "execution_count": 0,
      "outputs": []
    },
    {
      "cell_type": "code",
      "metadata": {
        "id": "pz5b2GxJAnfW",
        "colab_type": "code",
        "colab": {}
      },
      "source": [
        "checkpoint1 = ModelCheckpoint('/content/drive/My Drive/SVT/cnn_model/final300ep.h5', \n",
        "                             monitor='val_loss', \n",
        "                             verbose=1, \n",
        "                             save_best_only=True, \n",
        "                             mode='min', \n",
        "                             period=1)\n",
        "history = model.fit_generator(generator = train_batch, \n",
        "                    steps_per_epoch  = len(train_batch), \n",
        "                    epochs           = 150, \n",
        "                    verbose          = 1,\n",
        "                    validation_data  = svt_batch,\n",
        "                    validation_steps = len(svt_batch),\n",
        "                    callbacks        = [checkpoint1], \n",
        "                    max_queue_size   = 3)"
      ],
      "execution_count": 0,
      "outputs": []
    },
    {
      "cell_type": "code",
      "metadata": {
        "id": "RO5WISsstVHV",
        "colab_type": "code",
        "colab": {}
      },
      "source": [
        "# now train on svt data \n",
        "newxtrain, newytrain = SVTGen(train_images, LEXICON, svt_config)\n",
        "svttrain = SVT_2(newxtrain, newytrain, 16)\n",
        "newxvalid, newyvalid = SVTGen(valid_images,LEXICON, svt_config)  \n",
        "svtvalid = SVT_2(newxvalid,newyvalid, 16)\n"
      ],
      "execution_count": 0,
      "outputs": []
    },
    {
      "cell_type": "code",
      "metadata": {
        "id": "Yal9FsJ32p7J",
        "colab_type": "code",
        "colab": {}
      },
      "source": [
        "model2 = get_model(train_config['IMAGE_H'], train_config['IMAGE_W'], train_config['N_C'], NUM_CLASSES)\n",
        "model2.load_weights('/content/drive/My Drive/SVT/cnn_model/final300ep.h5')\n",
        "model2.compile(optimizer = keras.optimizers.sgd(lr = 0.001), loss = categorical_crossentropy, metrics = ['accuracy'])\n",
        "\n",
        "checkpoint3 = ModelCheckpoint('/content/drive/My Drive/SVT/cnn_model/final_svttrain_v3.h5', \n",
        "                             monitor='val_loss', \n",
        "                             verbose=1, \n",
        "                             save_best_only=True, \n",
        "                             mode='min', \n",
        "                             period=1) \n",
        "\n",
        "\n",
        "hist1 = model2.fit_generator(generator = svttrain, \n",
        "                    steps_per_epoch  = len(svttrain), \n",
        "                    epochs           = 75, \n",
        "                    verbose          = 1,\n",
        "                    validation_data  = svtvalid,\n",
        "                    validation_steps = len(svtvalid),\n",
        "                    callbacks        = [checkpoint3], \n",
        "                    max_queue_size   = 3)"
      ],
      "execution_count": 0,
      "outputs": []
    },
    {
      "cell_type": "code",
      "metadata": {
        "id": "zuLJT_PfYXYf",
        "colab_type": "code",
        "outputId": "c39a59b9-eebc-4e0e-b77a-4e261a7735f3",
        "colab": {
          "base_uri": "https://localhost:8080/",
          "height": 50
        }
      },
      "source": [
        "model3 = load_model('/content/drive/My Drive/SVT/cnn_model/final_svttrain.h5')\n",
        "model3.evaluate(newxvalid, newyvalid)"
      ],
      "execution_count": 0,
      "outputs": [
        {
          "output_type": "stream",
          "text": [
            "136/136 [==============================] - 0s 2ms/step\n"
          ],
          "name": "stdout"
        },
        {
          "output_type": "execute_result",
          "data": {
            "text/plain": [
              "[4.234180843128877, 0.38235294818878174]"
            ]
          },
          "metadata": {
            "tags": []
          },
          "execution_count": 145
        }
      ]
    }
  ]
}